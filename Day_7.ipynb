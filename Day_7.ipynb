{
 "cells": [
  {
   "cell_type": "markdown",
   "metadata": {},
   "source": [
    "# Object Oriented Programming"
   ]
  },
  {
   "cell_type": "markdown",
   "metadata": {},
   "source": [
    "##  Class"
   ]
  },
  {
   "cell_type": "code",
   "execution_count": 2,
   "metadata": {},
   "outputs": [],
   "source": [
    "class Laptop():\n",
    "    # Attributes/Characteristics\n",
    "    color=\"Blue\"\n",
    "    ram=\"20Gb\"\n",
    "    storage=\"1Tb\"\n",
    "    make=\"Hp\"\n",
    "    model=\"Notebook3310\"\n",
    "    processor=\"Corei5\"\n",
    "    generation='5th'\n",
    "    \n",
    "    \n",
    "    # behaviour /Functionalities\n",
    "    def switch_on():\n",
    "        print(\"Laptop is Switched On\")\n",
    "    def switch_Off():\n",
    "        print(\"Laptop is Shutdown\")\n",
    "    def play_game():\n",
    "        print(\"Games are played in laptop\")"
   ]
  },
  {
   "cell_type": "code",
   "execution_count": 8,
   "metadata": {},
   "outputs": [],
   "source": [
    "nabeel_laptop=Laptop()"
   ]
  },
  {
   "cell_type": "code",
   "execution_count": 9,
   "metadata": {},
   "outputs": [
    {
     "data": {
      "text/plain": [
       "'Corei5'"
      ]
     },
     "execution_count": 9,
     "metadata": {},
     "output_type": "execute_result"
    }
   ],
   "source": [
    "nabeel_laptop.processor"
   ]
  },
  {
   "cell_type": "code",
   "execution_count": 10,
   "metadata": {},
   "outputs": [
    {
     "ename": "TypeError",
     "evalue": "play_game() takes 0 positional arguments but 1 was given",
     "output_type": "error",
     "traceback": [
      "\u001b[1;31m---------------------------------------------------------------------------\u001b[0m",
      "\u001b[1;31mTypeError\u001b[0m                                 Traceback (most recent call last)",
      "\u001b[1;32m<ipython-input-10-b8a7ccf57556>\u001b[0m in \u001b[0;36m<module>\u001b[1;34m\u001b[0m\n\u001b[1;32m----> 1\u001b[1;33m \u001b[0mnabeel_laptop\u001b[0m\u001b[1;33m.\u001b[0m\u001b[0mplay_game\u001b[0m\u001b[1;33m(\u001b[0m\u001b[1;33m)\u001b[0m\u001b[1;33m\u001b[0m\u001b[1;33m\u001b[0m\u001b[0m\n\u001b[0m",
      "\u001b[1;31mTypeError\u001b[0m: play_game() takes 0 positional arguments but 1 was given"
     ]
    }
   ],
   "source": [
    "nabeel_laptop.play_game()"
   ]
  },
  {
   "cell_type": "code",
   "execution_count": 6,
   "metadata": {},
   "outputs": [
    {
     "data": {
      "text/plain": [
       "'Notebook3310'"
      ]
     },
     "execution_count": 6,
     "metadata": {},
     "output_type": "execute_result"
    }
   ],
   "source": [
    "nabeel_laptop.model"
   ]
  },
  {
   "cell_type": "code",
   "execution_count": 40,
   "metadata": {},
   "outputs": [],
   "source": [
    "class Laptop():\n",
    "    def __init__(self,color, ram,storage,processor,model,make,generation):\n",
    "        self.color=color\n",
    "        self.ram=ram\n",
    "        self.storage=storage\n",
    "        self.processor=processor\n",
    "        self.model=model\n",
    "        self.make=make\n",
    "        self.generation=generation\n",
    "    def specification(self):\n",
    "        print(f'''             Laptop Configurations Are: \n",
    "                 1 Color: {self.color}\n",
    "                 2 Ram : {self.ram}\n",
    "                 3 Storage:{self.storage}\n",
    "                 4 Processor: {self.processor}\n",
    "                 5 Model: {self.model}\n",
    "                 6 Make:{self.make}\n",
    "                 7 Generation:{self.generation}''')"
   ]
  },
  {
   "cell_type": "code",
   "execution_count": 41,
   "metadata": {},
   "outputs": [],
   "source": [
    "laptop1=Laptop(\"Grey\",'20Gb','1Tb',\"CoreI5\",\"Notebook3310\",\"HP\",\"7thGeneration\")"
   ]
  },
  {
   "cell_type": "code",
   "execution_count": 42,
   "metadata": {},
   "outputs": [
    {
     "name": "stdout",
     "output_type": "stream",
     "text": [
      "             Laptop Configurations Are: \n",
      "                 1 Color: Grey\n",
      "                 2 Ram : 20Gb\n",
      "                 3 Storage:1Tb\n",
      "                 4 Processor: CoreI5\n",
      "                 5 Model: Notebook3310\n",
      "                 6 Make:HP\n",
      "                 7 Generation:7thGeneration\n"
     ]
    }
   ],
   "source": [
    "laptop1.specification()"
   ]
  },
  {
   "cell_type": "code",
   "execution_count": 48,
   "metadata": {},
   "outputs": [],
   "source": [
    "class Car():\n",
    "    def __init__(self,company,make,model, color,category):\n",
    "        self.company=company\n",
    "        self.make=make\n",
    "        self.model=model\n",
    "        self.color=color\n",
    "        self.category=category\n",
    "    def car_specification(self):\n",
    "        print(f'''     Car Configuration:\n",
    "                 Company={self.company}\n",
    "                 Make={self.make}\n",
    "                 Model={self.model}\n",
    "                 Color={self.color}\n",
    "                 Category={self.category}\n",
    "                 ''')"
   ]
  },
  {
   "cell_type": "code",
   "execution_count": 49,
   "metadata": {},
   "outputs": [],
   "source": [
    "car1=Car(\"Suzuki\",\"Cultus\",\"2022\",\"Dark Blue\",\"Manual\")"
   ]
  },
  {
   "cell_type": "code",
   "execution_count": 50,
   "metadata": {},
   "outputs": [
    {
     "name": "stdout",
     "output_type": "stream",
     "text": [
      "     Car Configuration:\n",
      "                 Company=Suzuki\n",
      "                 Make=Cultus\n",
      "                 Model=2022\n",
      "                 Color=Dark Blue\n",
      "                 Category=Manual\n",
      "                 \n"
     ]
    }
   ],
   "source": [
    "car1.car_specification()"
   ]
  },
  {
   "cell_type": "code",
   "execution_count": 51,
   "metadata": {},
   "outputs": [],
   "source": [
    "car2=Car(\"Suzuki\",\"Swift\",\"2023\",\"Red\",\"Automatic\")"
   ]
  },
  {
   "cell_type": "code",
   "execution_count": 52,
   "metadata": {},
   "outputs": [
    {
     "data": {
      "text/plain": [
       "'Automatic'"
      ]
     },
     "execution_count": 52,
     "metadata": {},
     "output_type": "execute_result"
    }
   ],
   "source": [
    "car2.category"
   ]
  },
  {
   "cell_type": "code",
   "execution_count": 53,
   "metadata": {},
   "outputs": [
    {
     "name": "stdout",
     "output_type": "stream",
     "text": [
      "     Car Configuration:\n",
      "                 Company=Suzuki\n",
      "                 Make=Swift\n",
      "                 Model=2023\n",
      "                 Color=Red\n",
      "                 Category=Automatic\n",
      "                 \n"
     ]
    }
   ],
   "source": [
    "car2.car_specification()"
   ]
  },
  {
   "cell_type": "code",
   "execution_count": 130,
   "metadata": {},
   "outputs": [],
   "source": [
    "\n",
    "class Students():\n",
    "    studentList=[\"ali\",\"ahmed\",\"Mariam\",\"Waqar\",\"Basit\",\"Anila\"]\n",
    "    \n",
    "    \n",
    "    def __init__(self,name,rollno,year,degree,dept):\n",
    "        self.name=name\n",
    "        self.rollno=rollno\n",
    "        self.year=year\n",
    "        self.degree=degree\n",
    "        self.dept=dept\n",
    "    def studentinfo(self):\n",
    "        print(f'''\n",
    "                Name={self.name}\n",
    "                Roll_no={self.rollno}\n",
    "                Year={self.year}\n",
    "                Degree={self.degree}\n",
    "                Department={self.dept}\n",
    "                ''')\n",
    "    def get_year(self):\n",
    "        print(f\" year is {self.year}\")\n",
    "    def set_year(self,new_year):\n",
    "        years=['2013','2015','2017','2018']\n",
    "        if new_year in years:\n",
    "            self.year=new_year\n",
    "        else:\n",
    "            print(\"Year value is not available\")\n",
    "    def exam(self):\n",
    "        per=int(input(\"Enter Your Attandence Percentage: \"))\n",
    "        if(per>=75):\n",
    "            print(\"Your are Eligible to Give Exam\")\n",
    "        else:\n",
    "            print(\"Your are not Eligible to Give Exam\")"
   ]
  },
  {
   "cell_type": "code",
   "execution_count": 134,
   "metadata": {},
   "outputs": [],
   "source": [
    "student1=Students(\"ali\",\"789\",\"2022\",\"BS\",\"ComputerScience\")"
   ]
  },
  {
   "cell_type": "code",
   "execution_count": 139,
   "metadata": {},
   "outputs": [],
   "source": [
    "student1.set_year('2013')"
   ]
  },
  {
   "cell_type": "code",
   "execution_count": 81,
   "metadata": {},
   "outputs": [],
   "source": [
    "student2=Students(\"Murad\",\"1234\",\"2015\",\"BS\",\"ComputerScience\")"
   ]
  },
  {
   "cell_type": "code",
   "execution_count": 142,
   "metadata": {},
   "outputs": [
    {
     "name": "stdout",
     "output_type": "stream",
     "text": [
      " year is 2013\n"
     ]
    }
   ],
   "source": [
    "student1.get_year()"
   ]
  },
  {
   "cell_type": "markdown",
   "metadata": {},
   "source": [
    "# Encapsulation\n",
    " ### Data Binding and Data Hiding\n",
    " #### We enapsulate  different attributes and methods\n",
    " #### we hide data and provide required data by methods\n",
    " #### Data can be acessed by only particular methods"
   ]
  },
  {
   "cell_type": "code",
   "execution_count": 145,
   "metadata": {},
   "outputs": [
    {
     "ename": "ImportError",
     "evalue": "cannot import name 'Students' from 'studentz' (C:\\Users\\cs04\\Python_Programming\\studentz.py)",
     "output_type": "error",
     "traceback": [
      "\u001b[1;31m---------------------------------------------------------------------------\u001b[0m",
      "\u001b[1;31mImportError\u001b[0m                               Traceback (most recent call last)",
      "\u001b[1;32m<ipython-input-145-d23ff888cad2>\u001b[0m in \u001b[0;36m<module>\u001b[1;34m\u001b[0m\n\u001b[1;32m----> 1\u001b[1;33m \u001b[1;32mfrom\u001b[0m \u001b[0mstudentz\u001b[0m \u001b[1;32mimport\u001b[0m \u001b[0mStudents\u001b[0m\u001b[1;33m\u001b[0m\u001b[1;33m\u001b[0m\u001b[0m\n\u001b[0m",
      "\u001b[1;31mImportError\u001b[0m: cannot import name 'Students' from 'studentz' (C:\\Users\\cs04\\Python_Programming\\studentz.py)"
     ]
    }
   ],
   "source": [
    "from studentz import Students"
   ]
  },
  {
   "cell_type": "markdown",
   "metadata": {},
   "source": [
    "# Inheritance"
   ]
  },
  {
   "cell_type": "code",
   "execution_count": 59,
   "metadata": {},
   "outputs": [],
   "source": [
    "class Carss():\n",
    "    def __init__(self,make,model,capacity):\n",
    "        self.make=make\n",
    "        self.model=model\n",
    "        self.capacity=capacity\n",
    "        self.odometer_reading=0\n",
    "    def fuel_tank(self):\n",
    "        print(f\" {self.make} car is being filled with feul\")\n",
    "    def get_mileage(self):\n",
    "        print(f\" {self.make} car has {self.odometer_reading} km traveled\")\n",
    "    def set_mileage(self,newreading):\n",
    "        if newreading>self.odometer_reading :\n",
    "            self.odometer_reading=newreading\n",
    "            print(f\" {self.make} car has {self.odometer_reading} km traveled\")\n",
    "        else:\n",
    "            print(\"car meter can not be reversed\")\n",
    "    def describe_car(self):\n",
    "        print(f\" {self.make} {self.model} {self.capacity} {self.odometer_reading}\")"
   ]
  },
  {
   "cell_type": "code",
   "execution_count": null,
   "metadata": {},
   "outputs": [],
   "source": []
  },
  {
   "cell_type": "code",
   "execution_count": 60,
   "metadata": {},
   "outputs": [],
   "source": [
    "car11=Carss(\"Honda\",\"2023\",\"5\")"
   ]
  },
  {
   "cell_type": "code",
   "execution_count": 61,
   "metadata": {},
   "outputs": [
    {
     "name": "stdout",
     "output_type": "stream",
     "text": [
      " Honda car is being filled with feul\n"
     ]
    }
   ],
   "source": [
    "car11.fuel_tank()"
   ]
  },
  {
   "cell_type": "code",
   "execution_count": 34,
   "metadata": {},
   "outputs": [
    {
     "name": "stdout",
     "output_type": "stream",
     "text": [
      " Honda car has 14 km traveled\n"
     ]
    }
   ],
   "source": [
    "car11.set_mileage(14)"
   ]
  },
  {
   "cell_type": "code",
   "execution_count": 56,
   "metadata": {},
   "outputs": [
    {
     "name": "stdout",
     "output_type": "stream",
     "text": [
      " Honda 2023 5 14\n"
     ]
    }
   ],
   "source": [
    "car11.describe_car()"
   ]
  },
  {
   "cell_type": "code",
   "execution_count": 102,
   "metadata": {},
   "outputs": [],
   "source": [
    "class Battery():\n",
    "    def __init__(self, b_manuf, b_cells,b_amp,b_backup):\n",
    "        self.b_manuf=b_manuf\n",
    "        self.b_cells=b_cells\n",
    "        self.b_amp=b_amp\n",
    "        self.b_backup=b_backup"
   ]
  },
  {
   "cell_type": "code",
   "execution_count": 103,
   "metadata": {},
   "outputs": [],
   "source": [
    "class ElectricCars(Carss):\n",
    "    def __init__(self,make,model,capacity,wheels, max_speed,b_manuf, b_cells,b_amp,b_backup):\n",
    "        super(). __init__(make,model,capacity)\n",
    "        self.wheels=wheels\n",
    "        self.max_speed=max_speed\n",
    "        self.battery=Battery(b_manuf, b_cells,b_amp,b_backup)\n",
    "    def fuel_tank(self):\n",
    "        print(\"Electric Cars Donot need fuel\")"
   ]
  },
  {
   "cell_type": "code",
   "execution_count": 104,
   "metadata": {},
   "outputs": [],
   "source": [
    "myec=ElectricCars(\"Tesla\",\"2022\",\"5\",\"4\",\"120\",\"Osaka\",\"30\",\"200amp\",\"10hours\")"
   ]
  },
  {
   "cell_type": "code",
   "execution_count": 64,
   "metadata": {},
   "outputs": [
    {
     "name": "stdout",
     "output_type": "stream",
     "text": [
      " Tesla 2022 4 0\n"
     ]
    }
   ],
   "source": [
    "ec1.describe_car()"
   ]
  },
  {
   "cell_type": "code",
   "execution_count": 52,
   "metadata": {},
   "outputs": [
    {
     "name": "stdout",
     "output_type": "stream",
     "text": [
      " Tesla car has 18 km traveled\n"
     ]
    }
   ],
   "source": [
    "ec1.set_mileage(18)"
   ]
  },
  {
   "cell_type": "code",
   "execution_count": 40,
   "metadata": {},
   "outputs": [
    {
     "name": "stdout",
     "output_type": "stream",
     "text": [
      " Tesla car has 18 km traveled\n"
     ]
    }
   ],
   "source": [
    "ec1.get_mileage()"
   ]
  },
  {
   "cell_type": "code",
   "execution_count": 53,
   "metadata": {},
   "outputs": [
    {
     "name": "stdout",
     "output_type": "stream",
     "text": [
      " Tesla 2022 4 18\n"
     ]
    }
   ],
   "source": [
    "ec1.describe_car()"
   ]
  },
  {
   "cell_type": "code",
   "execution_count": 69,
   "metadata": {},
   "outputs": [
    {
     "name": "stdout",
     "output_type": "stream",
     "text": [
      "Electric Cars Donot need fuel\n"
     ]
    }
   ],
   "source": [
    "ec1.fuel_tank()"
   ]
  },
  {
   "cell_type": "code",
   "execution_count": 108,
   "metadata": {},
   "outputs": [
    {
     "data": {
      "text/plain": [
       "'120'"
      ]
     },
     "execution_count": 108,
     "metadata": {},
     "output_type": "execute_result"
    }
   ],
   "source": [
    "myec.max_speed"
   ]
  },
  {
   "cell_type": "code",
   "execution_count": 109,
   "metadata": {},
   "outputs": [
    {
     "data": {
      "text/plain": [
       "'30'"
      ]
     },
     "execution_count": 109,
     "metadata": {},
     "output_type": "execute_result"
    }
   ],
   "source": [
    "myec.battery.b_cells"
   ]
  },
  {
   "cell_type": "code",
   "execution_count": 110,
   "metadata": {},
   "outputs": [
    {
     "data": {
      "text/plain": [
       "'Osaka'"
      ]
     },
     "execution_count": 110,
     "metadata": {},
     "output_type": "execute_result"
    }
   ],
   "source": [
    "myec.battery.b_manuf"
   ]
  },
  {
   "cell_type": "code",
   "execution_count": 90,
   "metadata": {},
   "outputs": [],
   "source": [
    "class Employee():\n",
    "    def __init__(self,name,address,contact,salery,dept):\n",
    "        self.name=name\n",
    "        self.address=address\n",
    "        self.contact=contact\n",
    "        self.salery=salery\n",
    "        self.dept=dept\n",
    "    def department(self):\n",
    "        print(f\"My Department is {self.dept} \")\n",
    "    def get_contact(self):\n",
    "        print(f\"Employee contact is {self.contact}\")\n",
    "    def set_contact(self,newcontact):\n",
    "        self.contact=newcontact\n",
    "        print(f\"New Contact is {self.contact}\")\n",
    "    def emp_details(self):\n",
    "        print(f'''\n",
    "                Name={self.name}\n",
    "                Address={self.address}\n",
    "                Contact={self.contact}\n",
    "                Salery={self.salery}\n",
    "                Department={self.dept}\n",
    "                ''')\n",
    "        "
   ]
  },
  {
   "cell_type": "code",
   "execution_count": 91,
   "metadata": {},
   "outputs": [],
   "source": [
    "emp1=Employee(\"Ali\",\"Karachi\",\"123456\",\"45000\",\"Hr\")"
   ]
  },
  {
   "cell_type": "code",
   "execution_count": 92,
   "metadata": {},
   "outputs": [
    {
     "name": "stdout",
     "output_type": "stream",
     "text": [
      "\n",
      "                Name=Ali\n",
      "                Address=Karachi\n",
      "                Contact=123456\n",
      "                Salery=45000\n",
      "                Department=Hr\n",
      "                \n"
     ]
    }
   ],
   "source": [
    "emp1.emp_details()"
   ]
  },
  {
   "cell_type": "code",
   "execution_count": 93,
   "metadata": {},
   "outputs": [],
   "source": [
    "class Networking(Employee):\n",
    "    pass\n",
    "    def department(self):\n",
    "        print(f\"My name is {self.name} i am from Networking\")\n",
    "        "
   ]
  },
  {
   "cell_type": "code",
   "execution_count": 94,
   "metadata": {},
   "outputs": [],
   "source": [
    "emp2=Networking(\"Ahmed\",\"Karachi\",\"123456\",\"45000\",\"Hr\")"
   ]
  },
  {
   "cell_type": "code",
   "execution_count": 95,
   "metadata": {},
   "outputs": [
    {
     "name": "stdout",
     "output_type": "stream",
     "text": [
      "\n",
      "                Name=Ahmed\n",
      "                Address=Karachi\n",
      "                Contact=123456\n",
      "                Salery=45000\n",
      "                Department=Hr\n",
      "                \n"
     ]
    }
   ],
   "source": [
    "emp2.emp_details()"
   ]
  },
  {
   "cell_type": "code",
   "execution_count": 96,
   "metadata": {},
   "outputs": [
    {
     "name": "stdout",
     "output_type": "stream",
     "text": [
      "Employee contact is 123456\n"
     ]
    }
   ],
   "source": [
    "emp1.get_contact()"
   ]
  },
  {
   "cell_type": "code",
   "execution_count": 97,
   "metadata": {},
   "outputs": [
    {
     "name": "stdout",
     "output_type": "stream",
     "text": [
      "My Department is Hr \n"
     ]
    }
   ],
   "source": [
    "emp1.department()"
   ]
  },
  {
   "cell_type": "code",
   "execution_count": 98,
   "metadata": {},
   "outputs": [
    {
     "name": "stdout",
     "output_type": "stream",
     "text": [
      "My name is Ahmed i am from Networking\n"
     ]
    }
   ],
   "source": [
    "emp2.department()"
   ]
  },
  {
   "cell_type": "code",
   "execution_count": 105,
   "metadata": {},
   "outputs": [
    {
     "data": {
      "text/plain": [
       "'120'"
      ]
     },
     "execution_count": 105,
     "metadata": {},
     "output_type": "execute_result"
    }
   ],
   "source": [
    "myec.max_speed"
   ]
  },
  {
   "cell_type": "code",
   "execution_count": 106,
   "metadata": {},
   "outputs": [
    {
     "data": {
      "text/plain": [
       "'4'"
      ]
     },
     "execution_count": 106,
     "metadata": {},
     "output_type": "execute_result"
    }
   ],
   "source": [
    "myec.wheels"
   ]
  },
  {
   "cell_type": "code",
   "execution_count": 107,
   "metadata": {},
   "outputs": [
    {
     "data": {
      "text/plain": [
       "'Osaka'"
      ]
     },
     "execution_count": 107,
     "metadata": {},
     "output_type": "execute_result"
    }
   ],
   "source": [
    "myec.battery.b_manuf"
   ]
  },
  {
   "cell_type": "markdown",
   "metadata": {},
   "source": [
    "# Multilevel Inheritance"
   ]
  },
  {
   "cell_type": "code",
   "execution_count": null,
   "metadata": {},
   "outputs": [],
   "source": [
    "class A:\n",
    "    def feature1(self)"
   ]
  }
 ],
 "metadata": {
  "kernelspec": {
   "display_name": "Python 3",
   "language": "python",
   "name": "python3"
  },
  "language_info": {
   "codemirror_mode": {
    "name": "ipython",
    "version": 3
   },
   "file_extension": ".py",
   "mimetype": "text/x-python",
   "name": "python",
   "nbconvert_exporter": "python",
   "pygments_lexer": "ipython3",
   "version": "3.7.4"
  }
 },
 "nbformat": 4,
 "nbformat_minor": 2
}
