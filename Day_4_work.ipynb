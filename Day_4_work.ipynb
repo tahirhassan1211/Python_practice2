{
 "cells": [
  {
   "cell_type": "markdown",
   "metadata": {},
   "source": [
    "## Control Statements"
   ]
  },
  {
   "cell_type": "code",
   "execution_count": 1,
   "metadata": {},
   "outputs": [],
   "source": [
    "#if   #else   # elif "
   ]
  },
  {
   "cell_type": "code",
   "execution_count": 1,
   "metadata": {},
   "outputs": [
    {
     "name": "stdout",
     "output_type": "stream",
     "text": [
      "Enter First Number: 3\n",
      "Enter 2nd Number: 4\n",
      "Second Number is Greater\n"
     ]
    }
   ],
   "source": [
    "num1=int(input(\"Enter First Number: \"))\n",
    "num2=int(input(\"Enter 2nd Number: \"))\n",
    "\n",
    "\n",
    "if(num1>num2):\n",
    "    print(\"First Number  is Greater \")\n",
    "else:\n",
    "    print(\"Second Number is Greater\")\n",
    "    \n"
   ]
  },
  {
   "cell_type": "code",
   "execution_count": 3,
   "metadata": {},
   "outputs": [
    {
     "name": "stdout",
     "output_type": "stream",
     "text": [
      "Number is Even\n"
     ]
    }
   ],
   "source": [
    "if(num1%2==0):\n",
    "    print(\"Number is Even\")\n",
    "else:\n",
    "    print(\"Number is Odd\")"
   ]
  },
  {
   "cell_type": "code",
   "execution_count": 4,
   "metadata": {},
   "outputs": [
    {
     "name": "stdout",
     "output_type": "stream",
     "text": [
      "Enter Number: 45678\n"
     ]
    },
    {
     "data": {
      "text/plain": [
       "8"
      ]
     },
     "execution_count": 4,
     "metadata": {},
     "output_type": "execute_result"
    }
   ],
   "source": [
    "num3=int(input(\"Enter Number: \"))\n",
    "num3=str(num3)\n",
    "num3=num3[-1]\n",
    "int(num3)"
   ]
  },
  {
   "cell_type": "code",
   "execution_count": 5,
   "metadata": {},
   "outputs": [
    {
     "name": "stdout",
     "output_type": "stream",
     "text": [
      "Enter Number: 4568\n"
     ]
    },
    {
     "data": {
      "text/plain": [
       "8"
      ]
     },
     "execution_count": 5,
     "metadata": {},
     "output_type": "execute_result"
    }
   ],
   "source": [
    "num3=int(input(\"Enter Number: \")[-1])\n",
    "num3"
   ]
  },
  {
   "cell_type": "code",
   "execution_count": 6,
   "metadata": {},
   "outputs": [
    {
     "name": "stdout",
     "output_type": "stream",
     "text": [
      "Enter Number: 345\n"
     ]
    },
    {
     "data": {
      "text/plain": [
       "3"
      ]
     },
     "execution_count": 6,
     "metadata": {},
     "output_type": "execute_result"
    }
   ],
   "source": [
    "num3=int(input(\"Enter Number: \"))\n",
    "num3//100"
   ]
  },
  {
   "cell_type": "code",
   "execution_count": 8,
   "metadata": {},
   "outputs": [
    {
     "name": "stdout",
     "output_type": "stream",
     "text": [
      "Enter Number: 34567\n",
      "34567\n",
      "5\n",
      "Number has less than 10 digits\n"
     ]
    }
   ],
   "source": [
    "num3=int(input(\"Enter Number: \"))\n",
    "num4=str(num3)\n",
    "print(num4)\n",
    "\n",
    "print(len(num4))\n",
    "if(len(num4)>10):\n",
    "    print(\"Number has more than 10 digits\")\n",
    "else:\n",
    "    print(\"Number has less than 10 digits\")"
   ]
  },
  {
   "cell_type": "code",
   "execution_count": 9,
   "metadata": {},
   "outputs": [
    {
     "name": "stdout",
     "output_type": "stream",
     "text": [
      "Enter number 4\n",
      "You guessed 4 and machine guessed 8 you lost \n"
     ]
    }
   ],
   "source": [
    "import random\n",
    "guess=int(input(\"Enter number \"))\n",
    "num=random.randint(1,10)\n",
    "if(guess==num):\n",
    "    print(f\"You guessed {guess} and machine guessed {num} and you Win\")\n",
    "else:\n",
    "    print(f\"You guessed {guess} and machine guessed {num} you lost \")"
   ]
  },
  {
   "cell_type": "code",
   "execution_count": null,
   "metadata": {},
   "outputs": [],
   "source": [
    "import random\n",
    "guess=int(input(\"Enter number \"))\n",
    "num=random.randint(1,10)\n",
    "if(guess>num):\n",
    "    print(f\"You guessed {guess} and machine guessed {num} and you Win\")\n",
    "else:\n",
    "    print(f\"You guessed {guess} and machine guessed {num} you lost \")"
   ]
  },
  {
   "cell_type": "code",
   "execution_count": null,
   "metadata": {},
   "outputs": [],
   "source": [
    "amount=int(input(\"Enter Amount you have: \"))\n",
    "           \n",
    "if(200<amount<1000):\n",
    "    print(\"You have Capicity to Buy Meat\")\n",
    "elif(100<amount<200):\n",
    "    print(\"You have capicity to Buy Eggs\")\n",
    "else:\n",
    "    print(\"You are unable to Buy anything \")"
   ]
  },
  {
   "cell_type": "code",
   "execution_count": 3,
   "metadata": {},
   "outputs": [
    {
     "name": "stdout",
     "output_type": "stream",
     "text": [
      "Enter Your Marks : 87\n",
      "Enter Your Marks : 67\n",
      "Enter Your Marks : 99\n",
      "Enter Your Marks : 44\n",
      "Enter Your Marks : 78\n",
      "Enter Your Marks : 66\n"
     ]
    }
   ],
   "source": [
    "subjects=[]\n",
    "i=1\n",
    "while(i<=6):\n",
    "    marks=int(input(\"Enter Your Marks : \"))\n",
    "    subjects.append(marks)\n",
    "    i=i+1"
   ]
  },
  {
   "cell_type": "code",
   "execution_count": 3,
   "metadata": {},
   "outputs": [
    {
     "name": "stdout",
     "output_type": "stream",
     "text": [
      "Enter Your Username : imran\n",
      "you are not employee\n",
      "you are not employee\n",
      "you are employee\n"
     ]
    }
   ],
   "source": [
    "\n",
    "    \n"
   ]
  },
  {
   "cell_type": "code",
   "execution_count": null,
   "metadata": {},
   "outputs": [],
   "source": [
    "salery=int(input(\"Enter Your Salery : \"))\n",
    "service=int(input(\"Enter Year of service: \"))\n",
    "\n",
    "if(5<service<10):\n",
    "    bonus_amount=salery*0.05\n",
    "    total_credit=salery+bonus_amount\n",
    "    print(\"Bonus amount is: \",bonus_amount)\n",
    "    print(\"Total Credit amount is: \",total_credit)\n",
    "elif(10<service<15):\n",
    "    bonus_amount=salery*0.1\n",
    "    total_credit=salery+bonus_amount\n",
    "    print(\"Bonus amount is: \",bonus_amount)\n",
    "    print(\"Total Credit amount is: \",total_credit)\n",
    "if(service>15):\n",
    "    bonus_amount=salery*0.15\n",
    "    total_credit=salery+bonus_amount\n",
    "    print(\"Bonus amount is: \",bonus_amount)\n",
    "    print(\"Total Credit amount is: \",total_credit)\n",
    "\n"
   ]
  },
  {
   "cell_type": "code",
   "execution_count": 2,
   "metadata": {},
   "outputs": [
    {
     "name": "stdout",
     "output_type": "stream",
     "text": [
      "Enter No: of units consumed : 500\n",
      "Your Bill against 500 is :  5500\n"
     ]
    }
   ],
   "source": [
    "units=int(input(\"Enter No: of units consumed : \"))\n",
    "if(units<=100):\n",
    "    bill=units*5\n",
    "elif(units<=300):\n",
    "    bill=100*5 + (units-100)*10\n",
    "else:\n",
    "    bill=100*5+200*10 +(units-300)*15\n",
    "print(f\"Your Bill against {units} is : \",bill)   "
   ]
  },
  {
   "cell_type": "code",
   "execution_count": 13,
   "metadata": {},
   "outputs": [
    {
     "name": "stdout",
     "output_type": "stream",
     "text": [
      "Enter Your Name : rre\n",
      "Enter your Roll number : 44\n",
      "Enter Year55\n",
      "Enter Eng Marks : 78\n",
      "Enter Math Marks : 99\n",
      "Enter Urdu Marks : 09\n",
      "Enter Bio Marks : 89\n",
      "Enter Stats Marks : 99\n",
      "Enter Gk Marks : 99\n",
      "\n",
      "                          ABC Institute Karachi\n",
      "                         ________________________\n",
      "\n",
      "Name:       rre\n",
      "Roll number:44\n",
      "Year:       55\n",
      "\n",
      "              \n",
      "            English     Maths        Urdu       Bio         stats             GK\n",
      "            78       99           9        89       99       99\n",
      "\n",
      "Total Marks are: 473\n",
      "\n",
      "percentage is:   78.83333333333333\n",
      " \n",
      "Grade is B\n",
      "\n",
      "Status = Fail\n",
      "\n",
      "\n",
      "\n"
     ]
    }
   ],
   "source": [
    "\n",
    "name=input(\"Enter Your Name : \")\n",
    "rollno=int(input(\"Enter your Roll number : \"))\n",
    "year=int(input(\"Enter Year\"))\n",
    "\n",
    "eng=int(input(\"Enter Eng Marks : \"))\n",
    "math=int(input(\"Enter Math Marks : \"))\n",
    "urdu=int(input(\"Enter Urdu Marks : \"))\n",
    "bio=int(input(\"Enter Bio Marks : \"))\n",
    "stats=int(input(\"Enter Stats Marks : \"))\n",
    "gk=int(input(\"Enter Gk Marks : \"))\n",
    "total=eng+math+urdu+bio+stats+gk\n",
    "per=total/600*100\n",
    "if per>=90:\n",
    "    grade='A+'\n",
    "elif per >=80:\n",
    "    grade='A'\n",
    "elif per>=70:\n",
    "    grade='B'\n",
    "elif per>=60:\n",
    "    grade='C'\n",
    "elif per>=50:\n",
    "    grade='D'\n",
    "else:\n",
    "    grade='F'\n",
    "\n",
    "if eng>=50:\n",
    "    if math>=50:\n",
    "        if urdu >=50:\n",
    "            if bio>=50:\n",
    "                if stats>=50:\n",
    "                    if(gk>=50):\n",
    "                        status='Pass'\n",
    "                    else:\n",
    "                        status='Fail'\n",
    "                        fail.append(\"gk\")\n",
    "                else:\n",
    "                    status='Fail'\n",
    "                    fail.append(\"stats\")\n",
    "            else:\n",
    "                status='Fail'\n",
    "                fail.append(\"bio\")\n",
    "        else:\n",
    "            status='Fail'\n",
    "            fail.append(\"urdu\")\n",
    "    else:\n",
    "        status='Fail'\n",
    "        fail.append(\"eng\")\n",
    "else:\n",
    "    status='Fail'\n",
    "\n",
    "\n",
    "print(f'''\n",
    "                          ABC Institute Karachi\n",
    "                         ________________________\n",
    "\n",
    "Name:       {name}\n",
    "Roll number:{rollno}\n",
    "Year:       {year}\n",
    "\n",
    "              \n",
    "            English        Maths        Urdu       Bio         stats             GK\n",
    "            {eng}       {math}           {urdu}        {bio}       {stats}       {gk}\n",
    "\n",
    "Total Marks are: {total}\n",
    "\n",
    "percentage is:   {per}\n",
    " \n",
    "Grade is {grade}\n",
    "\n",
    "Status = {status}\n",
    "\n",
    "\n",
    "''')\n",
    "          \n",
    "\n",
    "    "
   ]
  },
  {
   "cell_type": "code",
   "execution_count": 16,
   "metadata": {},
   "outputs": [
    {
     "name": "stdout",
     "output_type": "stream",
     "text": [
      "Enter Number6\n",
      "6* 1 = 6\n",
      "6* 2 = 12\n",
      "6* 3 = 18\n",
      "6* 4 = 24\n",
      "6* 5 = 30\n",
      "6* 6 = 36\n",
      "6* 7 = 42\n",
      "6* 8 = 48\n",
      "6* 9 = 54\n",
      "6* 10 = 60\n"
     ]
    }
   ],
   "source": [
    "num=int(input(\"Enter Number : \"))\n",
    "for i in range(1,15):\n",
    "    if i==11:\n",
    "        break\n",
    "    else:\n",
    "        print(f\"{num}* {i} =\",num*i)"
   ]
  },
  {
   "cell_type": "code",
   "execution_count": 20,
   "metadata": {},
   "outputs": [
    {
     "name": "stdout",
     "output_type": "stream",
     "text": [
      "ALI\n",
      "AHMED\n",
      "WAQAR\n",
      "RASHID\n",
      "IMRAN\n"
     ]
    }
   ],
   "source": [
    "students=['ali','ahmed','waqar','rashid','imran']\n",
    "for student in students:\n",
    "    print(student.upper())"
   ]
  },
  {
   "cell_type": "code",
   "execution_count": 30,
   "metadata": {},
   "outputs": [
    {
     "name": "stdout",
     "output_type": "stream",
     "text": [
      "ali\n",
      "ahmed\n",
      "WAQAR\n",
      "rashid\n",
      "SAAD\n",
      "IRFAAN\n"
     ]
    }
   ],
   "source": [
    "students=['ali','ahmed','waqar','rashid','saad','irfaAn']\n",
    "for student in students:\n",
    "    if (student.lower().count('a')>=2):\n",
    "        print(student.upper())\n",
    "    else:\n",
    "        print(student)\n",
    "        "
   ]
  },
  {
   "cell_type": "code",
   "execution_count": 34,
   "metadata": {},
   "outputs": [
    {
     "name": "stdout",
     "output_type": "stream",
     "text": [
      "abc\n",
      "xyz\n",
      "asd\n"
     ]
    }
   ],
   "source": [
    "email_ids=[\"abc@gmail.com\",\"xyz@gmail.com\",\"asd@gmail.com\"]\n",
    "username=[]\n",
    "domain=[]\n",
    "for email in email_ids:\n",
    "    print(email.split(\"@\")[0])"
   ]
  },
  {
   "cell_type": "code",
   "execution_count": 36,
   "metadata": {},
   "outputs": [
    {
     "name": "stdout",
     "output_type": "stream",
     "text": [
      "['abc', 'xyz', 'asd']\n",
      "['gmail.com', 'gmail.com', 'gmail.com']\n"
     ]
    }
   ],
   "source": [
    "email_ids=[\"abc@gmail.com\",\"xyz@gmail.com\",\"asd@gmail.com\"]\n",
    "username=[]\n",
    "domain=[]\n",
    "for email in email_ids:\n",
    "    username.append(email.split(\"@\")[0])\n",
    "    domain.append(email.split(\"@\")[1])\n",
    "print(username)\n",
    "print(domain)"
   ]
  },
  {
   "cell_type": "code",
   "execution_count": 40,
   "metadata": {},
   "outputs": [
    {
     "name": "stdout",
     "output_type": "stream",
     "text": [
      "[4, 16, 36, 64]\n",
      "[1, 27, 125, 343, 729]\n"
     ]
    }
   ],
   "source": [
    "number=[1,2,3,4,5,6,7,8,9,]\n",
    "squred=[]\n",
    "cubed=[]\n",
    "for num in number:\n",
    "    if(num%2==0):\n",
    "        squre=num**2\n",
    "        squred.append(squre)\n",
    "    else:\n",
    "        cube=num**3\n",
    "        cubed.append(cube)\n",
    "print(squred)\n",
    "print(cubed)"
   ]
  },
  {
   "cell_type": "code",
   "execution_count": 38,
   "metadata": {},
   "outputs": [
    {
     "data": {
      "text/plain": [
       "[1, 4, 9, 16, 25, 36, 49, 64, 81]"
      ]
     },
     "execution_count": 38,
     "metadata": {},
     "output_type": "execute_result"
    }
   ],
   "source": [
    "[num**2 for num in number]"
   ]
  },
  {
   "cell_type": "code",
   "execution_count": null,
   "metadata": {},
   "outputs": [],
   "source": [
    "vowel=[]\n",
    "text1=input(\"Enter Text : \")\n",
    "for value in text1:\n",
    "    if(value=='a'):\n",
    "        vowel.append(value)\n",
    "print(vowel)"
   ]
  },
  {
   "cell_type": "code",
   "execution_count": null,
   "metadata": {},
   "outputs": [],
   "source": []
  },
  {
   "cell_type": "code",
   "execution_count": null,
   "metadata": {},
   "outputs": [],
   "source": []
  }
 ],
 "metadata": {
  "kernelspec": {
   "display_name": "Python 3",
   "language": "python",
   "name": "python3"
  },
  "language_info": {
   "codemirror_mode": {
    "name": "ipython",
    "version": 3
   },
   "file_extension": ".py",
   "mimetype": "text/x-python",
   "name": "python",
   "nbconvert_exporter": "python",
   "pygments_lexer": "ipython3",
   "version": "3.7.4"
  }
 },
 "nbformat": 4,
 "nbformat_minor": 2
}
