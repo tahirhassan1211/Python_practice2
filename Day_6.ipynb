{
 "cells": [
  {
   "cell_type": "markdown",
   "metadata": {},
   "source": [
    "# Functions\n",
    " - pythons functions\n",
    " - class functions\n",
    " - user defined functions\n",
    " - user defined class functions"
   ]
  },
  {
   "cell_type": "code",
   "execution_count": 1,
   "metadata": {},
   "outputs": [
    {
     "name": "stdout",
     "output_type": "stream",
     "text": [
      "Welcome\n"
     ]
    }
   ],
   "source": [
    "def greet():\n",
    "    print(\"Welcome\")\n",
    "    \n",
    "greet()"
   ]
  },
  {
   "cell_type": "code",
   "execution_count": 5,
   "metadata": {},
   "outputs": [
    {
     "name": "stdout",
     "output_type": "stream",
     "text": [
      "Welcome Tahir\n"
     ]
    }
   ],
   "source": [
    "def greet_user(name):\n",
    "    print(f\"Welcome {name}\")\n",
    "greet_user(\"Tahir\")"
   ]
  },
  {
   "cell_type": "code",
   "execution_count": 82,
   "metadata": {},
   "outputs": [
    {
     "name": "stdout",
     "output_type": "stream",
     "text": [
      "Sum of 2 and 5 is 7\n"
     ]
    }
   ],
   "source": [
    "def summation():\n",
    "    a=2\n",
    "    b=5\n",
    "    summm=a+b\n",
    "    print(f\"Sum of {a} and {b} is {summm}\")\n",
    "summation()"
   ]
  },
  {
   "cell_type": "code",
   "execution_count": 84,
   "metadata": {},
   "outputs": [
    {
     "name": "stdout",
     "output_type": "stream",
     "text": [
      "Sum of 2 and 4 is 6\n"
     ]
    }
   ],
   "source": [
    "def summation(a,b):\n",
    "    summm=a+b\n",
    "    print(f\"Sum of {a} and {b} is {summm}\")\n",
    "summation(2,4)"
   ]
  },
  {
   "cell_type": "code",
   "execution_count": 28,
   "metadata": {},
   "outputs": [
    {
     "name": "stdout",
     "output_type": "stream",
     "text": [
      "Count of Character is text are 82\n",
      "Number of words is text are 12\n",
      "Sentences in a Paragraph are 2\n"
     ]
    }
   ],
   "source": [
    "def paragraph(text):\n",
    "    print(\"Count of Character is text are\",len(text))\n",
    "    a=text.split(\" \")\n",
    "    print(\"Number of words is text are\",len(a))\n",
    "    print(\"Sentences in a Paragraph are\",len(text.split(\".\"))-1)\n",
    "\n",
    "    \n",
    "paragraph(\"Python Programming is essential for Data Science.Data science is a emerging field.\")"
   ]
  },
  {
   "cell_type": "code",
   "execution_count": 15,
   "metadata": {},
   "outputs": [
    {
     "name": "stdout",
     "output_type": "stream",
     "text": [
      "abc is bvcd\n"
     ]
    }
   ],
   "source": [
    "text= \"abc is bvcd\"\n",
    "print(text)"
   ]
  },
  {
   "cell_type": "code",
   "execution_count": 12,
   "metadata": {},
   "outputs": [
    {
     "name": "stdout",
     "output_type": "stream",
     "text": [
      "['abc', 'is', 'bvcd']\n"
     ]
    }
   ],
   "source": [
    "print(text.split(\" \"))"
   ]
  },
  {
   "cell_type": "code",
   "execution_count": 79,
   "metadata": {},
   "outputs": [
    {
     "name": "stdout",
     "output_type": "stream",
     "text": [
      "Enter First Number: 4\n",
      "Enter 2nd Number: 5\n",
      "Enter Operation which you want to perform +, -,*,/ :+\n",
      "9\n"
     ]
    }
   ],
   "source": [
    "def summ(num1,num2):\n",
    "    c=num1+num2\n",
    "    print(c)\n",
    "def subtract(num1,num2):\n",
    "    c=num1-num2\n",
    "    print(c)\n",
    "def multiply(num1,num2):\n",
    "    c=num1*num2\n",
    "    print(c)\n",
    "def divide(num1,num2):\n",
    "    c=num1//num2\n",
    "    print(c)\n",
    "num1=int(input(\"Enter First Number: \"))\n",
    "num2=int(input(\"Enter 2nd Number: \"))\n",
    "op=input(\"Enter Operation which you want to perform +, -,*,/ :\")\n",
    "if(op=='+'):\n",
    "    summ(num1,num2)\n",
    "elif(op=='-'):\n",
    "    subtract(num1,num2)\n",
    "elif(op=='*'):\n",
    "    multiply(num1,num2)\n",
    "elif(op=='/'):\n",
    "    if(num2==0):\n",
    "        print(\"Any Number is not divisible by Zero\")\n",
    "    else:\n",
    "        divide(num1,num2)\n",
    "else:\n",
    "    print(\"Enter Correct Opration\")\n",
    "\n",
    "    \n"
   ]
  },
  {
   "cell_type": "code",
   "execution_count": 61,
   "metadata": {},
   "outputs": [
    {
     "name": "stdout",
     "output_type": "stream",
     "text": [
      "Enter Bill Amount: 25000\n",
      "3750.0\n"
     ]
    }
   ],
   "source": [
    "def discount(bill_amount):\n",
    "    if(bill_amount<10000):\n",
    "        print(\"Discount is not available for purchase of less than 10000\")\n",
    "    elif(10000<bill_amount<20000):\n",
    "        discount=bill_amount*.10\n",
    "        print(discount)\n",
    "    elif(20000<bill_amount<30000):\n",
    "        discount=bill_amount*.15\n",
    "        print(discount)   \n",
    "    elif(30000<bill_amount<40000):\n",
    "        discount=bill_amount*.20\n",
    "        print(discount)\n",
    "    else:\n",
    "        discount=bill_amount*.30\n",
    "        print(discount)\n",
    "        \n",
    "\n",
    "bill_amount=int(input(\"Enter Bill Amount: \"))\n",
    "discount(bill_amount)"
   ]
  },
  {
   "cell_type": "code",
   "execution_count": 69,
   "metadata": {},
   "outputs": [
    {
     "data": {
      "text/plain": [
       "'RazaAleeQazi'"
      ]
     },
     "execution_count": 69,
     "metadata": {},
     "output_type": "execute_result"
    }
   ],
   "source": [
    "#positional Parametre\n",
    "def full_name(first,middle,last):\n",
    "     name=first + middle + last\n",
    "     return name\n",
    "full_name(first='Raza',middle=\"Alee\",last=\"Qazi\")"
   ]
  },
  {
   "cell_type": "code",
   "execution_count": 71,
   "metadata": {},
   "outputs": [
    {
     "data": {
      "text/plain": [
       "'RazaAlee'"
      ]
     },
     "execution_count": 71,
     "metadata": {},
     "output_type": "execute_result"
    }
   ],
   "source": [
    "#default Argument\n",
    "def full_name(first,middle,last=\"\"):\n",
    "     name=first + middle + last\n",
    "     return name\n",
    "full_name('Raza',\"Alee\")"
   ]
  },
  {
   "cell_type": "code",
   "execution_count": 75,
   "metadata": {},
   "outputs": [
    {
     "data": {
      "text/plain": [
       "'RazaAliQazi'"
      ]
     },
     "execution_count": 75,
     "metadata": {},
     "output_type": "execute_result"
    }
   ],
   "source": [
    "#positional argument comes after keyword argument\n",
    "full_name(\"Raza\", middle='Ali',last='Qazi')"
   ]
  },
  {
   "cell_type": "code",
   "execution_count": 74,
   "metadata": {},
   "outputs": [
    {
     "ename": "SyntaxError",
     "evalue": "positional argument follows keyword argument (<ipython-input-74-2ed3e7a1cca8>, line 2)",
     "output_type": "error",
     "traceback": [
      "\u001b[1;36m  File \u001b[1;32m\"<ipython-input-74-2ed3e7a1cca8>\"\u001b[1;36m, line \u001b[1;32m2\u001b[0m\n\u001b[1;33m    full_name(first=\"Raza\", middle='Ali','Qazi')\u001b[0m\n\u001b[1;37m                                        ^\u001b[0m\n\u001b[1;31mSyntaxError\u001b[0m\u001b[1;31m:\u001b[0m positional argument follows keyword argument\n"
     ]
    }
   ],
   "source": [
    "#positional argument comes after keyword argument\n",
    "full_name(first=\"Raza\", middle='Ali','Qazi')"
   ]
  },
  {
   "cell_type": "code",
   "execution_count": 63,
   "metadata": {},
   "outputs": [],
   "source": [
    "# Arbitrary Argument"
   ]
  },
  {
   "cell_type": "code",
   "execution_count": 77,
   "metadata": {},
   "outputs": [],
   "source": [
    "def summing(n1,n2,n3=0):\n",
    "    s=n1+n2+n3\n",
    "    return s"
   ]
  },
  {
   "cell_type": "code",
   "execution_count": 78,
   "metadata": {},
   "outputs": [
    {
     "data": {
      "text/plain": [
       "6"
      ]
     },
     "execution_count": 78,
     "metadata": {},
     "output_type": "execute_result"
    }
   ],
   "source": [
    "summing(1,2,3)"
   ]
  },
  {
   "cell_type": "code",
   "execution_count": 1,
   "metadata": {},
   "outputs": [],
   "source": [
    "def summingg(*n):\n",
    "    s=sum(n)\n",
    "    return s"
   ]
  },
  {
   "cell_type": "code",
   "execution_count": 2,
   "metadata": {},
   "outputs": [
    {
     "data": {
      "text/plain": [
       "45"
      ]
     },
     "execution_count": 2,
     "metadata": {},
     "output_type": "execute_result"
    }
   ],
   "source": [
    "summingg(1,2,3,4,5,6,7,8,9)"
   ]
  },
  {
   "cell_type": "code",
   "execution_count": 3,
   "metadata": {},
   "outputs": [],
   "source": [
    "import MyFile"
   ]
  },
  {
   "cell_type": "code",
   "execution_count": 4,
   "metadata": {},
   "outputs": [
    {
     "data": {
      "text/plain": [
       "<function MyFile.summingg(*n)>"
      ]
     },
     "execution_count": 4,
     "metadata": {},
     "output_type": "execute_result"
    }
   ],
   "source": [
    "MyFile.summingg"
   ]
  },
  {
   "cell_type": "code",
   "execution_count": 5,
   "metadata": {},
   "outputs": [
    {
     "data": {
      "text/plain": [
       "45"
      ]
     },
     "execution_count": 5,
     "metadata": {},
     "output_type": "execute_result"
    }
   ],
   "source": [
    "summingg(1,2,3,4,5,6,7,8,9)"
   ]
  },
  {
   "cell_type": "markdown",
   "metadata": {},
   "source": [
    "# Exception Handeling"
   ]
  },
  {
   "cell_type": "code",
   "execution_count": 7,
   "metadata": {},
   "outputs": [
    {
     "name": "stdout",
     "output_type": "stream",
     "text": [
      "Enter a Number: 5\n",
      "Enter a Number: 0\n",
      "You can not divide a number by 0\n"
     ]
    }
   ],
   "source": [
    "num1=int(input(\"Enter a Number: \"))\n",
    "num2=int(input(\"Enter a Number: \"))\n",
    "try:\n",
    "    value=num1/num2\n",
    "except ZeroDivisionError:\n",
    "    print(\"You can not divide a number by 0\")\n",
    "    \n",
    "else:\n",
    "    print(value)"
   ]
  },
  {
   "cell_type": "code",
   "execution_count": 8,
   "metadata": {},
   "outputs": [
    {
     "name": "stdout",
     "output_type": "stream",
     "text": [
      "Enter a Number: two\n",
      "You can only enter digits\n"
     ]
    }
   ],
   "source": [
    "\n",
    "try:\n",
    "    num1=int(input(\"Enter a Number: \"))\n",
    "    num2=int(input(\"Enter a Number: \"))\n",
    "    value=num1/num2\n",
    "except ZeroDivisionError:\n",
    "    print(\"You can not divide a number by 0\")\n",
    "except ValueError:\n",
    "    print(\"You can only enter digits\")\n",
    "    \n",
    "else:\n",
    "    print(value)"
   ]
  },
  {
   "cell_type": "code",
   "execution_count": 10,
   "metadata": {},
   "outputs": [
    {
     "name": "stdout",
     "output_type": "stream",
     "text": [
      "Enter Your Age: 34\n",
      "You are admitted\n"
     ]
    }
   ],
   "source": [
    "try:\n",
    "    age=int(input(\"Enter Your Age: \"))\n",
    "    if age<15 or age >100:\n",
    "        raise \"Age restriction Error\"\n",
    "except Exception as e:\n",
    "    print(\"Children and Old age not allowed\")\n",
    "else:\n",
    "    print(\"You are admitted\")"
   ]
  },
  {
   "cell_type": "code",
   "execution_count": null,
   "metadata": {},
   "outputs": [],
   "source": []
  }
 ],
 "metadata": {
  "kernelspec": {
   "display_name": "Python 3",
   "language": "python",
   "name": "python3"
  },
  "language_info": {
   "codemirror_mode": {
    "name": "ipython",
    "version": 3
   },
   "file_extension": ".py",
   "mimetype": "text/x-python",
   "name": "python",
   "nbconvert_exporter": "python",
   "pygments_lexer": "ipython3",
   "version": "3.7.4"
  }
 },
 "nbformat": 4,
 "nbformat_minor": 2
}
